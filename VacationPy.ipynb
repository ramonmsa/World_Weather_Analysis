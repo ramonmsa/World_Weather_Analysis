{
 "cells": [
  {
   "cell_type": "markdown",
   "id": "8132f6e1",
   "metadata": {},
   "source": [
    "## Create Heatmaps for Weather Parameters\n",
    "<hr>\n"
   ]
  },
  {
   "cell_type": "code",
   "execution_count": 33,
   "id": "cb9dbf2b",
   "metadata": {},
   "outputs": [],
   "source": [
    "# Import the dependencies.\n",
    "import pandas as pd\n",
    "import gmaps\n",
    "import requests\n",
    "import numpy as np\n",
    "# Import the API key.\n",
    "from config import gmaps_api_key"
   ]
  },
  {
   "cell_type": "code",
   "execution_count": 2,
   "id": "0a17e763",
   "metadata": {},
   "outputs": [
    {
     "data": {
      "text/html": [
       "<div>\n",
       "<style scoped>\n",
       "    .dataframe tbody tr th:only-of-type {\n",
       "        vertical-align: middle;\n",
       "    }\n",
       "\n",
       "    .dataframe tbody tr th {\n",
       "        vertical-align: top;\n",
       "    }\n",
       "\n",
       "    .dataframe thead th {\n",
       "        text-align: right;\n",
       "    }\n",
       "</style>\n",
       "<table border=\"1\" class=\"dataframe\">\n",
       "  <thead>\n",
       "    <tr style=\"text-align: right;\">\n",
       "      <th></th>\n",
       "      <th>City_ID</th>\n",
       "      <th>City</th>\n",
       "      <th>Country</th>\n",
       "      <th>Date</th>\n",
       "      <th>Lat</th>\n",
       "      <th>Lng</th>\n",
       "      <th>Max Temp</th>\n",
       "      <th>Humidity</th>\n",
       "      <th>Cloudiness</th>\n",
       "      <th>Wind Speed</th>\n",
       "    </tr>\n",
       "  </thead>\n",
       "  <tbody>\n",
       "    <tr>\n",
       "      <th>0</th>\n",
       "      <td>0</td>\n",
       "      <td>Hilo</td>\n",
       "      <td>US</td>\n",
       "      <td>2021-07-31 02:13:10</td>\n",
       "      <td>19.7297</td>\n",
       "      <td>-155.0900</td>\n",
       "      <td>78.53</td>\n",
       "      <td>73</td>\n",
       "      <td>90</td>\n",
       "      <td>0.00</td>\n",
       "    </tr>\n",
       "    <tr>\n",
       "      <th>1</th>\n",
       "      <td>1</td>\n",
       "      <td>Bambous Virieux</td>\n",
       "      <td>MU</td>\n",
       "      <td>2021-07-31 02:15:31</td>\n",
       "      <td>-20.3428</td>\n",
       "      <td>57.7575</td>\n",
       "      <td>70.05</td>\n",
       "      <td>68</td>\n",
       "      <td>75</td>\n",
       "      <td>11.50</td>\n",
       "    </tr>\n",
       "    <tr>\n",
       "      <th>2</th>\n",
       "      <td>2</td>\n",
       "      <td>Houma</td>\n",
       "      <td>US</td>\n",
       "      <td>2021-07-31 02:15:32</td>\n",
       "      <td>29.5958</td>\n",
       "      <td>-90.7195</td>\n",
       "      <td>87.80</td>\n",
       "      <td>86</td>\n",
       "      <td>85</td>\n",
       "      <td>1.01</td>\n",
       "    </tr>\n",
       "    <tr>\n",
       "      <th>3</th>\n",
       "      <td>3</td>\n",
       "      <td>Qingdao</td>\n",
       "      <td>CN</td>\n",
       "      <td>2021-07-31 02:12:45</td>\n",
       "      <td>36.0986</td>\n",
       "      <td>120.3719</td>\n",
       "      <td>82.17</td>\n",
       "      <td>69</td>\n",
       "      <td>0</td>\n",
       "      <td>3.87</td>\n",
       "    </tr>\n",
       "    <tr>\n",
       "      <th>4</th>\n",
       "      <td>4</td>\n",
       "      <td>Punta Arenas</td>\n",
       "      <td>CL</td>\n",
       "      <td>2021-07-31 02:12:05</td>\n",
       "      <td>-53.1500</td>\n",
       "      <td>-70.9167</td>\n",
       "      <td>37.51</td>\n",
       "      <td>75</td>\n",
       "      <td>0</td>\n",
       "      <td>21.85</td>\n",
       "    </tr>\n",
       "  </tbody>\n",
       "</table>\n",
       "</div>"
      ],
      "text/plain": [
       "   City_ID             City Country                 Date      Lat       Lng  \\\n",
       "0        0             Hilo      US  2021-07-31 02:13:10  19.7297 -155.0900   \n",
       "1        1  Bambous Virieux      MU  2021-07-31 02:15:31 -20.3428   57.7575   \n",
       "2        2            Houma      US  2021-07-31 02:15:32  29.5958  -90.7195   \n",
       "3        3          Qingdao      CN  2021-07-31 02:12:45  36.0986  120.3719   \n",
       "4        4     Punta Arenas      CL  2021-07-31 02:12:05 -53.1500  -70.9167   \n",
       "\n",
       "   Max Temp  Humidity  Cloudiness  Wind Speed  \n",
       "0     78.53        73          90        0.00  \n",
       "1     70.05        68          75       11.50  \n",
       "2     87.80        86          85        1.01  \n",
       "3     82.17        69           0        3.87  \n",
       "4     37.51        75           0       21.85  "
      ]
     },
     "execution_count": 2,
     "metadata": {},
     "output_type": "execute_result"
    }
   ],
   "source": [
    "# Store the CSV you saved created in part one into a DataFrame.\n",
    "city_data_df = pd.read_csv(\"weather_data/cities.csv\")\n",
    "city_data_df.head()"
   ]
  },
  {
   "cell_type": "code",
   "execution_count": 3,
   "id": "05ea0ffc",
   "metadata": {},
   "outputs": [
    {
     "data": {
      "text/plain": [
       "City_ID         int64\n",
       "City           object\n",
       "Country        object\n",
       "Date           object\n",
       "Lat           float64\n",
       "Lng           float64\n",
       "Max Temp      float64\n",
       "Humidity        int64\n",
       "Cloudiness      int64\n",
       "Wind Speed    float64\n",
       "dtype: object"
      ]
     },
     "execution_count": 3,
     "metadata": {},
     "output_type": "execute_result"
    }
   ],
   "source": [
    "city_data_df.dtypes\n"
   ]
  },
  {
   "cell_type": "markdown",
   "id": "b0e76b7b",
   "metadata": {},
   "source": [
    "### Create a Maximum Temperature Heatmap"
   ]
  },
  {
   "cell_type": "code",
   "execution_count": 4,
   "id": "002b4394",
   "metadata": {},
   "outputs": [],
   "source": [
    "# Configure gmaps to use your Google API key.\n",
    "gmaps.configure(api_key = gmaps_api_key)"
   ]
  },
  {
   "cell_type": "code",
   "execution_count": 7,
   "id": "8c3808a2",
   "metadata": {},
   "outputs": [],
   "source": [
    "# Get the maximum temperature.\n",
    "max_temp = city_data_df[\"Max Temp\"]\n"
   ]
  },
  {
   "cell_type": "code",
   "execution_count": 10,
   "id": "17c18b2b",
   "metadata": {},
   "outputs": [
    {
     "data": {
      "application/vnd.jupyter.widget-view+json": {
       "model_id": "79065af09d33448a9780958081311617",
       "version_major": 2,
       "version_minor": 0
      },
      "text/plain": [
       "Figure(layout=FigureLayout(height='420px'))"
      ]
     },
     "metadata": {},
     "output_type": "display_data"
    }
   ],
   "source": [
    "# 1. Assign the locations to an array of latitude and longitude pairs.\n",
    "locations = city_data_df[[\"Lat\",\"Lng\"]]\n",
    "\n",
    "# 2. Assign the weights variable to some values.\n",
    "temperatures = city_data_df[\"Max Temp\"]\n",
    "\n",
    "# 3. Assign the figure variable to the gmaps.figure() attribute.\n",
    "fig = gmaps.figure(center=(30.0, 31.0), zoom_level=1.5)\n",
    "\n",
    "# 4. Assign the heatmap_layer variable to the heatmap_layer attribute and add in the locations.\n",
    "heat_layer  = gmaps.heatmap_layer(\n",
    "    locations, \n",
    "    weights = [max(temp, 0) for temp in max_temp],\n",
    "    dissipating=False, max_intensity=300, point_radius=4)\n",
    "\n",
    "# 5. Add the heatmap layer.\n",
    "fig.add_layer(heat_layer )\n",
    "\n",
    "# 6. Call the figure to plot the data.\n",
    "fig"
   ]
  },
  {
   "cell_type": "markdown",
   "id": "c8a96a89",
   "metadata": {},
   "source": [
    "### Create a Percent Humidity Heatmap"
   ]
  },
  {
   "cell_type": "code",
   "execution_count": 11,
   "id": "5c3a0cc3",
   "metadata": {},
   "outputs": [
    {
     "data": {
      "application/vnd.jupyter.widget-view+json": {
       "model_id": "ed284f4c6ebc4dd29595289728489554",
       "version_major": 2,
       "version_minor": 0
      },
      "text/plain": [
       "Figure(layout=FigureLayout(height='420px'))"
      ]
     },
     "metadata": {},
     "output_type": "display_data"
    }
   ],
   "source": [
    "# Heatmap of percent humidity\n",
    "locations = city_data_df[[\"Lat\", \"Lng\"]]\n",
    "humidity = city_data_df[\"Humidity\"]\n",
    "fig = gmaps.figure(center=(30.0, 31.0), zoom_level=1.5)\n",
    "heat_layer = gmaps.heatmap_layer(\n",
    "    locations, \n",
    "    weights=humidity, \n",
    "    dissipating=False,\n",
    "    max_intensity=300,\n",
    "    point_radius=4)\n",
    "\n",
    "fig.add_layer(heat_layer)\n",
    "# Call the figure to plot the data.\n",
    "fig"
   ]
  },
  {
   "cell_type": "markdown",
   "id": "70ddae49",
   "metadata": {},
   "source": [
    "### Create a Percent Cloudiness Heatmap"
   ]
  },
  {
   "cell_type": "code",
   "execution_count": 12,
   "id": "331146f8",
   "metadata": {},
   "outputs": [
    {
     "data": {
      "application/vnd.jupyter.widget-view+json": {
       "model_id": "1b96f5589f2a4e6f90308b971d679da6",
       "version_major": 2,
       "version_minor": 0
      },
      "text/plain": [
       "Figure(layout=FigureLayout(height='420px'))"
      ]
     },
     "metadata": {},
     "output_type": "display_data"
    }
   ],
   "source": [
    "# Heatmap of percent clouds\n",
    "locations = city_data_df[[\"Lat\", \"Lng\"]]\n",
    "clouds = city_data_df[\"Cloudiness\"]\n",
    "fig = gmaps.figure(center=(30.0, 31.0), zoom_level=1.5)\n",
    "heat_layer = gmaps.heatmap_layer(\n",
    "    locations, \n",
    "    weights=clouds, \n",
    "    dissipating=False,\n",
    "    max_intensity=300,\n",
    "    point_radius=4)\n",
    "\n",
    "fig.add_layer(heat_layer)\n",
    "# Call the figure to plot the data.\n",
    "fig"
   ]
  },
  {
   "cell_type": "markdown",
   "id": "df86daa3",
   "metadata": {},
   "source": [
    "### Create a Wind Speed Heatmap"
   ]
  },
  {
   "cell_type": "code",
   "execution_count": 13,
   "id": "fd6358b2",
   "metadata": {},
   "outputs": [
    {
     "data": {
      "application/vnd.jupyter.widget-view+json": {
       "model_id": "8331b1bdc94442f8852d8ef51bfea750",
       "version_major": 2,
       "version_minor": 0
      },
      "text/plain": [
       "Figure(layout=FigureLayout(height='420px'))"
      ]
     },
     "metadata": {},
     "output_type": "display_data"
    }
   ],
   "source": [
    "# Heatmap of percent wind\n",
    "locations = city_data_df[[\"Lat\", \"Lng\"]]\n",
    "wind = city_data_df[\"Wind Speed\"]\n",
    "fig = gmaps.figure(center=(30.0, 31.0), zoom_level=1.5)\n",
    "heat_layer = gmaps.heatmap_layer(\n",
    "    locations, \n",
    "    weights=wind, \n",
    "    dissipating=False,\n",
    "    max_intensity=300,\n",
    "    point_radius=4)\n",
    "\n",
    "fig.add_layer(heat_layer)\n",
    "# Call the figure to plot the data.\n",
    "fig"
   ]
  },
  {
   "cell_type": "markdown",
   "id": "09dcd17b",
   "metadata": {},
   "source": [
    "## Get Vacation Criteria"
   ]
  },
  {
   "cell_type": "code",
   "execution_count": 14,
   "id": "d176f3b7",
   "metadata": {},
   "outputs": [
    {
     "name": "stdout",
     "output_type": "stream",
     "text": [
      "What is the minimum temperature you would like for your trip? 75\n",
      "What is the maximum temperature you would like for your trip? 90\n"
     ]
    }
   ],
   "source": [
    "# Ask the customer to add a minimum and maximum temperature value.\n",
    "min_temp = float(input(\"What is the minimum temperature you would like for your trip? \"))\n",
    "max_temp = float(input(\"What is the maximum temperature you would like for your trip? \"))"
   ]
  },
  {
   "cell_type": "code",
   "execution_count": 15,
   "id": "ef4dfd3d",
   "metadata": {},
   "outputs": [
    {
     "data": {
      "text/html": [
       "<div>\n",
       "<style scoped>\n",
       "    .dataframe tbody tr th:only-of-type {\n",
       "        vertical-align: middle;\n",
       "    }\n",
       "\n",
       "    .dataframe tbody tr th {\n",
       "        vertical-align: top;\n",
       "    }\n",
       "\n",
       "    .dataframe thead th {\n",
       "        text-align: right;\n",
       "    }\n",
       "</style>\n",
       "<table border=\"1\" class=\"dataframe\">\n",
       "  <thead>\n",
       "    <tr style=\"text-align: right;\">\n",
       "      <th></th>\n",
       "      <th>City_ID</th>\n",
       "      <th>City</th>\n",
       "      <th>Country</th>\n",
       "      <th>Date</th>\n",
       "      <th>Lat</th>\n",
       "      <th>Lng</th>\n",
       "      <th>Max Temp</th>\n",
       "      <th>Humidity</th>\n",
       "      <th>Cloudiness</th>\n",
       "      <th>Wind Speed</th>\n",
       "    </tr>\n",
       "  </thead>\n",
       "  <tbody>\n",
       "    <tr>\n",
       "      <th>0</th>\n",
       "      <td>0</td>\n",
       "      <td>Hilo</td>\n",
       "      <td>US</td>\n",
       "      <td>2021-07-31 02:13:10</td>\n",
       "      <td>19.7297</td>\n",
       "      <td>-155.0900</td>\n",
       "      <td>78.53</td>\n",
       "      <td>73</td>\n",
       "      <td>90</td>\n",
       "      <td>0.00</td>\n",
       "    </tr>\n",
       "    <tr>\n",
       "      <th>2</th>\n",
       "      <td>2</td>\n",
       "      <td>Houma</td>\n",
       "      <td>US</td>\n",
       "      <td>2021-07-31 02:15:32</td>\n",
       "      <td>29.5958</td>\n",
       "      <td>-90.7195</td>\n",
       "      <td>87.80</td>\n",
       "      <td>86</td>\n",
       "      <td>85</td>\n",
       "      <td>1.01</td>\n",
       "    </tr>\n",
       "    <tr>\n",
       "      <th>3</th>\n",
       "      <td>3</td>\n",
       "      <td>Qingdao</td>\n",
       "      <td>CN</td>\n",
       "      <td>2021-07-31 02:12:45</td>\n",
       "      <td>36.0986</td>\n",
       "      <td>120.3719</td>\n",
       "      <td>82.17</td>\n",
       "      <td>69</td>\n",
       "      <td>0</td>\n",
       "      <td>3.87</td>\n",
       "    </tr>\n",
       "    <tr>\n",
       "      <th>7</th>\n",
       "      <td>7</td>\n",
       "      <td>Merritt Island</td>\n",
       "      <td>US</td>\n",
       "      <td>2021-07-31 02:15:33</td>\n",
       "      <td>28.5392</td>\n",
       "      <td>-80.6720</td>\n",
       "      <td>86.36</td>\n",
       "      <td>86</td>\n",
       "      <td>75</td>\n",
       "      <td>1.99</td>\n",
       "    </tr>\n",
       "    <tr>\n",
       "      <th>17</th>\n",
       "      <td>17</td>\n",
       "      <td>Karachi</td>\n",
       "      <td>PK</td>\n",
       "      <td>2021-07-31 02:15:35</td>\n",
       "      <td>24.9056</td>\n",
       "      <td>67.0822</td>\n",
       "      <td>80.42</td>\n",
       "      <td>83</td>\n",
       "      <td>75</td>\n",
       "      <td>17.27</td>\n",
       "    </tr>\n",
       "    <tr>\n",
       "      <th>22</th>\n",
       "      <td>22</td>\n",
       "      <td>Myitkyina</td>\n",
       "      <td>MM</td>\n",
       "      <td>2021-07-31 02:15:37</td>\n",
       "      <td>25.3833</td>\n",
       "      <td>97.4000</td>\n",
       "      <td>75.85</td>\n",
       "      <td>99</td>\n",
       "      <td>100</td>\n",
       "      <td>0.78</td>\n",
       "    </tr>\n",
       "    <tr>\n",
       "      <th>26</th>\n",
       "      <td>26</td>\n",
       "      <td>Hithadhoo</td>\n",
       "      <td>MV</td>\n",
       "      <td>2021-07-31 02:15:37</td>\n",
       "      <td>-0.6000</td>\n",
       "      <td>73.0833</td>\n",
       "      <td>80.92</td>\n",
       "      <td>74</td>\n",
       "      <td>73</td>\n",
       "      <td>2.77</td>\n",
       "    </tr>\n",
       "    <tr>\n",
       "      <th>28</th>\n",
       "      <td>28</td>\n",
       "      <td>Dingle</td>\n",
       "      <td>PH</td>\n",
       "      <td>2021-07-31 02:15:38</td>\n",
       "      <td>10.9995</td>\n",
       "      <td>122.6711</td>\n",
       "      <td>88.30</td>\n",
       "      <td>65</td>\n",
       "      <td>100</td>\n",
       "      <td>14.00</td>\n",
       "    </tr>\n",
       "    <tr>\n",
       "      <th>31</th>\n",
       "      <td>31</td>\n",
       "      <td>Kapaa</td>\n",
       "      <td>US</td>\n",
       "      <td>2021-07-31 02:15:39</td>\n",
       "      <td>22.0752</td>\n",
       "      <td>-159.3190</td>\n",
       "      <td>86.32</td>\n",
       "      <td>67</td>\n",
       "      <td>1</td>\n",
       "      <td>4.00</td>\n",
       "    </tr>\n",
       "    <tr>\n",
       "      <th>36</th>\n",
       "      <td>36</td>\n",
       "      <td>Bathsheba</td>\n",
       "      <td>BB</td>\n",
       "      <td>2021-07-31 02:15:41</td>\n",
       "      <td>13.2167</td>\n",
       "      <td>-59.5167</td>\n",
       "      <td>81.21</td>\n",
       "      <td>83</td>\n",
       "      <td>40</td>\n",
       "      <td>16.11</td>\n",
       "    </tr>\n",
       "  </tbody>\n",
       "</table>\n",
       "</div>"
      ],
      "text/plain": [
       "    City_ID            City Country                 Date      Lat       Lng  \\\n",
       "0         0            Hilo      US  2021-07-31 02:13:10  19.7297 -155.0900   \n",
       "2         2           Houma      US  2021-07-31 02:15:32  29.5958  -90.7195   \n",
       "3         3         Qingdao      CN  2021-07-31 02:12:45  36.0986  120.3719   \n",
       "7         7  Merritt Island      US  2021-07-31 02:15:33  28.5392  -80.6720   \n",
       "17       17         Karachi      PK  2021-07-31 02:15:35  24.9056   67.0822   \n",
       "22       22       Myitkyina      MM  2021-07-31 02:15:37  25.3833   97.4000   \n",
       "26       26       Hithadhoo      MV  2021-07-31 02:15:37  -0.6000   73.0833   \n",
       "28       28          Dingle      PH  2021-07-31 02:15:38  10.9995  122.6711   \n",
       "31       31           Kapaa      US  2021-07-31 02:15:39  22.0752 -159.3190   \n",
       "36       36       Bathsheba      BB  2021-07-31 02:15:41  13.2167  -59.5167   \n",
       "\n",
       "    Max Temp  Humidity  Cloudiness  Wind Speed  \n",
       "0      78.53        73          90        0.00  \n",
       "2      87.80        86          85        1.01  \n",
       "3      82.17        69           0        3.87  \n",
       "7      86.36        86          75        1.99  \n",
       "17     80.42        83          75       17.27  \n",
       "22     75.85        99         100        0.78  \n",
       "26     80.92        74          73        2.77  \n",
       "28     88.30        65         100       14.00  \n",
       "31     86.32        67           1        4.00  \n",
       "36     81.21        83          40       16.11  "
      ]
     },
     "execution_count": 15,
     "metadata": {},
     "output_type": "execute_result"
    }
   ],
   "source": [
    "# Filter the dataset to find the cities that fit the criteria.\n",
    "preferred_cities_df = city_data_df.loc[(city_data_df[\"Max Temp\"] <= max_temp) & \\\n",
    "                                       (city_data_df[\"Max Temp\"] >= min_temp)]\n",
    "preferred_cities_df.head(10)"
   ]
  },
  {
   "cell_type": "code",
   "execution_count": 16,
   "id": "e5c65d19",
   "metadata": {},
   "outputs": [
    {
     "data": {
      "text/plain": [
       "City_ID       200\n",
       "City          200\n",
       "Country       199\n",
       "Date          200\n",
       "Lat           200\n",
       "Lng           200\n",
       "Max Temp      200\n",
       "Humidity      200\n",
       "Cloudiness    200\n",
       "Wind Speed    200\n",
       "dtype: int64"
      ]
     },
     "execution_count": 16,
     "metadata": {},
     "output_type": "execute_result"
    }
   ],
   "source": [
    "preferred_cities_df.count()"
   ]
  },
  {
   "cell_type": "code",
   "execution_count": 25,
   "id": "317329d9",
   "metadata": {},
   "outputs": [
    {
     "name": "stderr",
     "output_type": "stream",
     "text": [
      "C:\\ProgramData\\Anaconda3\\envs\\PythonData\\lib\\site-packages\\ipykernel_launcher.py:1: SettingWithCopyWarning: \n",
      "A value is trying to be set on a copy of a slice from a DataFrame\n",
      "\n",
      "See the caveats in the documentation: https://pandas.pydata.org/pandas-docs/stable/user_guide/indexing.html#returning-a-view-versus-a-copy\n",
      "  \"\"\"Entry point for launching an IPython kernel.\n"
     ]
    }
   ],
   "source": [
    "preferred_cities_df.dropna(subset = [\"Country\"], inplace = True)"
   ]
  },
  {
   "cell_type": "code",
   "execution_count": 26,
   "id": "7ff02d08",
   "metadata": {},
   "outputs": [
    {
     "data": {
      "text/plain": [
       "City_ID       199\n",
       "City          199\n",
       "Country       199\n",
       "Date          199\n",
       "Lat           199\n",
       "Lng           199\n",
       "Max Temp      199\n",
       "Humidity      199\n",
       "Cloudiness    199\n",
       "Wind Speed    199\n",
       "dtype: int64"
      ]
     },
     "execution_count": 26,
     "metadata": {},
     "output_type": "execute_result"
    }
   ],
   "source": [
    "preferred_cities_df.count()"
   ]
  },
  {
   "cell_type": "markdown",
   "id": "b9428c20",
   "metadata": {},
   "source": [
    "## Map Vacation Criteria\n",
    "<hr>"
   ]
  },
  {
   "cell_type": "markdown",
   "id": "7612fe47",
   "metadata": {},
   "source": [
    "### Get Travel Destinations"
   ]
  },
  {
   "cell_type": "code",
   "execution_count": 27,
   "id": "00eb13af",
   "metadata": {},
   "outputs": [
    {
     "data": {
      "text/html": [
       "<div>\n",
       "<style scoped>\n",
       "    .dataframe tbody tr th:only-of-type {\n",
       "        vertical-align: middle;\n",
       "    }\n",
       "\n",
       "    .dataframe tbody tr th {\n",
       "        vertical-align: top;\n",
       "    }\n",
       "\n",
       "    .dataframe thead th {\n",
       "        text-align: right;\n",
       "    }\n",
       "</style>\n",
       "<table border=\"1\" class=\"dataframe\">\n",
       "  <thead>\n",
       "    <tr style=\"text-align: right;\">\n",
       "      <th></th>\n",
       "      <th>City</th>\n",
       "      <th>Country</th>\n",
       "      <th>Max Temp</th>\n",
       "      <th>Lat</th>\n",
       "      <th>Lng</th>\n",
       "      <th>Hotel Name</th>\n",
       "    </tr>\n",
       "  </thead>\n",
       "  <tbody>\n",
       "    <tr>\n",
       "      <th>0</th>\n",
       "      <td>Hilo</td>\n",
       "      <td>US</td>\n",
       "      <td>78.53</td>\n",
       "      <td>19.7297</td>\n",
       "      <td>-155.0900</td>\n",
       "      <td></td>\n",
       "    </tr>\n",
       "    <tr>\n",
       "      <th>2</th>\n",
       "      <td>Houma</td>\n",
       "      <td>US</td>\n",
       "      <td>87.80</td>\n",
       "      <td>29.5958</td>\n",
       "      <td>-90.7195</td>\n",
       "      <td></td>\n",
       "    </tr>\n",
       "    <tr>\n",
       "      <th>3</th>\n",
       "      <td>Qingdao</td>\n",
       "      <td>CN</td>\n",
       "      <td>82.17</td>\n",
       "      <td>36.0986</td>\n",
       "      <td>120.3719</td>\n",
       "      <td></td>\n",
       "    </tr>\n",
       "    <tr>\n",
       "      <th>7</th>\n",
       "      <td>Merritt Island</td>\n",
       "      <td>US</td>\n",
       "      <td>86.36</td>\n",
       "      <td>28.5392</td>\n",
       "      <td>-80.6720</td>\n",
       "      <td></td>\n",
       "    </tr>\n",
       "    <tr>\n",
       "      <th>17</th>\n",
       "      <td>Karachi</td>\n",
       "      <td>PK</td>\n",
       "      <td>80.42</td>\n",
       "      <td>24.9056</td>\n",
       "      <td>67.0822</td>\n",
       "      <td></td>\n",
       "    </tr>\n",
       "    <tr>\n",
       "      <th>22</th>\n",
       "      <td>Myitkyina</td>\n",
       "      <td>MM</td>\n",
       "      <td>75.85</td>\n",
       "      <td>25.3833</td>\n",
       "      <td>97.4000</td>\n",
       "      <td></td>\n",
       "    </tr>\n",
       "    <tr>\n",
       "      <th>26</th>\n",
       "      <td>Hithadhoo</td>\n",
       "      <td>MV</td>\n",
       "      <td>80.92</td>\n",
       "      <td>-0.6000</td>\n",
       "      <td>73.0833</td>\n",
       "      <td></td>\n",
       "    </tr>\n",
       "    <tr>\n",
       "      <th>28</th>\n",
       "      <td>Dingle</td>\n",
       "      <td>PH</td>\n",
       "      <td>88.30</td>\n",
       "      <td>10.9995</td>\n",
       "      <td>122.6711</td>\n",
       "      <td></td>\n",
       "    </tr>\n",
       "    <tr>\n",
       "      <th>31</th>\n",
       "      <td>Kapaa</td>\n",
       "      <td>US</td>\n",
       "      <td>86.32</td>\n",
       "      <td>22.0752</td>\n",
       "      <td>-159.3190</td>\n",
       "      <td></td>\n",
       "    </tr>\n",
       "    <tr>\n",
       "      <th>36</th>\n",
       "      <td>Bathsheba</td>\n",
       "      <td>BB</td>\n",
       "      <td>81.21</td>\n",
       "      <td>13.2167</td>\n",
       "      <td>-59.5167</td>\n",
       "      <td></td>\n",
       "    </tr>\n",
       "  </tbody>\n",
       "</table>\n",
       "</div>"
      ],
      "text/plain": [
       "              City Country  Max Temp      Lat       Lng Hotel Name\n",
       "0             Hilo      US     78.53  19.7297 -155.0900           \n",
       "2            Houma      US     87.80  29.5958  -90.7195           \n",
       "3          Qingdao      CN     82.17  36.0986  120.3719           \n",
       "7   Merritt Island      US     86.36  28.5392  -80.6720           \n",
       "17         Karachi      PK     80.42  24.9056   67.0822           \n",
       "22       Myitkyina      MM     75.85  25.3833   97.4000           \n",
       "26       Hithadhoo      MV     80.92  -0.6000   73.0833           \n",
       "28          Dingle      PH     88.30  10.9995  122.6711           \n",
       "31           Kapaa      US     86.32  22.0752 -159.3190           \n",
       "36       Bathsheba      BB     81.21  13.2167  -59.5167           "
      ]
     },
     "execution_count": 27,
     "metadata": {},
     "output_type": "execute_result"
    }
   ],
   "source": [
    "# Create DataFrame called hotel_df to store hotel names along with city, country, max temp, and coordinates.\n",
    "hotel_df = preferred_cities_df[[\"City\", \"Country\", \"Max Temp\", \"Lat\", \"Lng\"]].copy()\n",
    "hotel_df[\"Hotel Name\"] = \"\"\n",
    "hotel_df.head(10)"
   ]
  },
  {
   "cell_type": "markdown",
   "id": "8f404ebb",
   "metadata": {},
   "source": [
    "### Retrieve Hotels from a Nearby Search"
   ]
  },
  {
   "cell_type": "code",
   "execution_count": 28,
   "id": "86e0082a",
   "metadata": {},
   "outputs": [],
   "source": [
    "# Set parameters to search for a hotel.\n",
    "params = {\n",
    "    \"radius\": 5000,\n",
    "    \"type\": \"lodging\",\n",
    "    \"key\": gmaps_api_key\n",
    "}\n"
   ]
  },
  {
   "cell_type": "code",
   "execution_count": 30,
   "id": "514f82b6",
   "metadata": {},
   "outputs": [
    {
     "name": "stdout",
     "output_type": "stream",
     "text": [
      "Hotel not found ... skipping.\n",
      "Hotel not found ... skipping.\n",
      "Hotel not found ... skipping.\n",
      "Hotel not found ... skipping.\n",
      "Hotel not found ... skipping.\n",
      "Hotel not found ... skipping.\n",
      "Hotel not found ... skipping.\n",
      "Hotel not found ... skipping.\n",
      "Hotel not found ... skipping.\n",
      "Hotel not found ... skipping.\n",
      "Hotel not found ... skipping.\n",
      "Hotel not found ... skipping.\n",
      "Hotel not found ... skipping.\n",
      "Hotel not found ... skipping.\n",
      "Hotel not found ... skipping.\n"
     ]
    }
   ],
   "source": [
    "# Iterate through the DataFrame.\n",
    "for index, row in hotel_df.iterrows():\n",
    "    # Get the latitude and longitude.\n",
    "    lat = row[\"Lat\"]\n",
    "    lng = row[\"Lng\"]\n",
    "\n",
    "    # Add the latitude and longitude to location key for the params dictionary.\n",
    "    params[\"location\"] = f\"{lat},{lng}\"\n",
    "\n",
    "    # Use the search term: \"lodging\" and our latitude and longitude.\n",
    "    base_url = \"https://maps.googleapis.com/maps/api/place/nearbysearch/json\"\n",
    "    # Make request and get the JSON data from the search.\n",
    "    hotels = requests.get(base_url, params=params).json()\n",
    "    # Grab the first hotel from the results and store the name.\n",
    "    try:\n",
    "        hotel_df.loc[index, \"Hotel Name\"] = hotels[\"results\"][0][\"name\"]\n",
    "    except (IndexError):\n",
    "        print(\"Hotel not found ... skipping.\")"
   ]
  },
  {
   "cell_type": "code",
   "execution_count": 31,
   "id": "4e6c658f",
   "metadata": {},
   "outputs": [
    {
     "data": {
      "text/html": [
       "<div>\n",
       "<style scoped>\n",
       "    .dataframe tbody tr th:only-of-type {\n",
       "        vertical-align: middle;\n",
       "    }\n",
       "\n",
       "    .dataframe tbody tr th {\n",
       "        vertical-align: top;\n",
       "    }\n",
       "\n",
       "    .dataframe thead th {\n",
       "        text-align: right;\n",
       "    }\n",
       "</style>\n",
       "<table border=\"1\" class=\"dataframe\">\n",
       "  <thead>\n",
       "    <tr style=\"text-align: right;\">\n",
       "      <th></th>\n",
       "      <th>City</th>\n",
       "      <th>Country</th>\n",
       "      <th>Max Temp</th>\n",
       "      <th>Lat</th>\n",
       "      <th>Lng</th>\n",
       "      <th>Hotel Name</th>\n",
       "    </tr>\n",
       "  </thead>\n",
       "  <tbody>\n",
       "    <tr>\n",
       "      <th>0</th>\n",
       "      <td>Hilo</td>\n",
       "      <td>US</td>\n",
       "      <td>78.53</td>\n",
       "      <td>19.7297</td>\n",
       "      <td>-155.0900</td>\n",
       "      <td>Hilo Hawaiian Hotel</td>\n",
       "    </tr>\n",
       "    <tr>\n",
       "      <th>2</th>\n",
       "      <td>Houma</td>\n",
       "      <td>US</td>\n",
       "      <td>87.80</td>\n",
       "      <td>29.5958</td>\n",
       "      <td>-90.7195</td>\n",
       "      <td>Courtyard by Marriott Houma</td>\n",
       "    </tr>\n",
       "    <tr>\n",
       "      <th>3</th>\n",
       "      <td>Qingdao</td>\n",
       "      <td>CN</td>\n",
       "      <td>82.17</td>\n",
       "      <td>36.0986</td>\n",
       "      <td>120.3719</td>\n",
       "      <td>东晖国际大酒店餐厅</td>\n",
       "    </tr>\n",
       "    <tr>\n",
       "      <th>7</th>\n",
       "      <td>Merritt Island</td>\n",
       "      <td>US</td>\n",
       "      <td>86.36</td>\n",
       "      <td>28.5392</td>\n",
       "      <td>-80.6720</td>\n",
       "      <td></td>\n",
       "    </tr>\n",
       "    <tr>\n",
       "      <th>17</th>\n",
       "      <td>Karachi</td>\n",
       "      <td>PK</td>\n",
       "      <td>80.42</td>\n",
       "      <td>24.9056</td>\n",
       "      <td>67.0822</td>\n",
       "      <td>Sadaat</td>\n",
       "    </tr>\n",
       "    <tr>\n",
       "      <th>...</th>\n",
       "      <td>...</td>\n",
       "      <td>...</td>\n",
       "      <td>...</td>\n",
       "      <td>...</td>\n",
       "      <td>...</td>\n",
       "      <td>...</td>\n",
       "    </tr>\n",
       "    <tr>\n",
       "      <th>538</th>\n",
       "      <td>Bosaso</td>\n",
       "      <td>SO</td>\n",
       "      <td>85.86</td>\n",
       "      <td>11.2842</td>\n",
       "      <td>49.1816</td>\n",
       "      <td>Red Sea Hotel</td>\n",
       "    </tr>\n",
       "    <tr>\n",
       "      <th>550</th>\n",
       "      <td>Alofi</td>\n",
       "      <td>NU</td>\n",
       "      <td>82.29</td>\n",
       "      <td>-19.0595</td>\n",
       "      <td>-169.9187</td>\n",
       "      <td>Taloa Heights</td>\n",
       "    </tr>\n",
       "    <tr>\n",
       "      <th>553</th>\n",
       "      <td>Berbera</td>\n",
       "      <td>SO</td>\n",
       "      <td>86.61</td>\n",
       "      <td>10.4396</td>\n",
       "      <td>45.0143</td>\n",
       "      <td>IBCO REAL ESTATE PROPERTY</td>\n",
       "    </tr>\n",
       "    <tr>\n",
       "      <th>557</th>\n",
       "      <td>Central Point</td>\n",
       "      <td>US</td>\n",
       "      <td>83.64</td>\n",
       "      <td>42.3760</td>\n",
       "      <td>-122.9164</td>\n",
       "      <td>Courtyard by Marriott Medford Airport</td>\n",
       "    </tr>\n",
       "    <tr>\n",
       "      <th>558</th>\n",
       "      <td>Ilebo</td>\n",
       "      <td>CD</td>\n",
       "      <td>77.16</td>\n",
       "      <td>-4.3167</td>\n",
       "      <td>20.5833</td>\n",
       "      <td>Hôtel BUMAK</td>\n",
       "    </tr>\n",
       "  </tbody>\n",
       "</table>\n",
       "<p>199 rows × 6 columns</p>\n",
       "</div>"
      ],
      "text/plain": [
       "               City Country  Max Temp      Lat       Lng  \\\n",
       "0              Hilo      US     78.53  19.7297 -155.0900   \n",
       "2             Houma      US     87.80  29.5958  -90.7195   \n",
       "3           Qingdao      CN     82.17  36.0986  120.3719   \n",
       "7    Merritt Island      US     86.36  28.5392  -80.6720   \n",
       "17          Karachi      PK     80.42  24.9056   67.0822   \n",
       "..              ...     ...       ...      ...       ...   \n",
       "538          Bosaso      SO     85.86  11.2842   49.1816   \n",
       "550           Alofi      NU     82.29 -19.0595 -169.9187   \n",
       "553         Berbera      SO     86.61  10.4396   45.0143   \n",
       "557   Central Point      US     83.64  42.3760 -122.9164   \n",
       "558           Ilebo      CD     77.16  -4.3167   20.5833   \n",
       "\n",
       "                                Hotel Name  \n",
       "0                      Hilo Hawaiian Hotel  \n",
       "2              Courtyard by Marriott Houma  \n",
       "3                                东晖国际大酒店餐厅  \n",
       "7                                           \n",
       "17                                  Sadaat  \n",
       "..                                     ...  \n",
       "538                          Red Sea Hotel  \n",
       "550                          Taloa Heights  \n",
       "553              IBCO REAL ESTATE PROPERTY  \n",
       "557  Courtyard by Marriott Medford Airport  \n",
       "558                            Hôtel BUMAK  \n",
       "\n",
       "[199 rows x 6 columns]"
      ]
     },
     "execution_count": 31,
     "metadata": {},
     "output_type": "execute_result"
    }
   ],
   "source": [
    "hotel_df"
   ]
  },
  {
   "cell_type": "code",
   "execution_count": 39,
   "id": "68d35959",
   "metadata": {},
   "outputs": [],
   "source": [
    "hotel_df = hotel_df.replace(\"\",np.nan)\n"
   ]
  },
  {
   "cell_type": "code",
   "execution_count": 46,
   "id": "7ee3d4eb",
   "metadata": {},
   "outputs": [
    {
     "data": {
      "text/plain": [
       "City          184\n",
       "Country       184\n",
       "Max Temp      184\n",
       "Lat           184\n",
       "Lng           184\n",
       "Hotel Name    184\n",
       "dtype: int64"
      ]
     },
     "execution_count": 46,
     "metadata": {},
     "output_type": "execute_result"
    }
   ],
   "source": [
    "\n",
    "hotel_df.dropna(subset = [\"Hotel Name\"],inplace = True)\n",
    "hotel_df.count()"
   ]
  },
  {
   "cell_type": "code",
   "execution_count": 49,
   "id": "616efdcc",
   "metadata": {},
   "outputs": [],
   "source": [
    "info_box_template = \"\"\"\n",
    "<dl>\n",
    "<dt>Hotel Name</dt><dd>{Hotel Name}</dd>\n",
    "<dt>City</dt><dd>{City}</dd>\n",
    "<dt>Country</dt><dd>{Country}</dd>\n",
    "<dt>Max Temp</dt><dd>{Max Temp} °F</dd>\n",
    "</dl>\n",
    "\"\"\""
   ]
  },
  {
   "cell_type": "code",
   "execution_count": 50,
   "id": "025c4987",
   "metadata": {},
   "outputs": [],
   "source": [
    "# Store the DataFrame Row.\n",
    "hotel_info = [info_box_template.format(**row) for index, row in hotel_df.iterrows()]"
   ]
  },
  {
   "cell_type": "code",
   "execution_count": 53,
   "id": "d9fcf7c1",
   "metadata": {},
   "outputs": [
    {
     "data": {
      "application/vnd.jupyter.widget-view+json": {
       "model_id": "45559db3494d42b88ba5da94c4269fc3",
       "version_major": 2,
       "version_minor": 0
      },
      "text/plain": [
       "Figure(layout=FigureLayout(height='420px'))"
      ]
     },
     "metadata": {},
     "output_type": "display_data"
    }
   ],
   "source": [
    "# Add a heatmap of temperature for the vacation spots.\n",
    "locations = hotel_df[[\"Lat\", \"Lng\"]]\n",
    "max_temp = hotel_df[\"Max Temp\"]\n",
    "fig = gmaps.figure(center=(30.0, 31.0), zoom_level=1.5)\n",
    "heat_layer = gmaps.heatmap_layer(locations, weights=max_temp, dissipating=False,\n",
    "             max_intensity=300, point_radius=4)\n",
    "\n",
    "marker_layer = gmaps.marker_layer(locations, info_box_content=hotel_info)\n",
    "\n",
    "fig.add_layer(heat_layer)\n",
    "fig.add_layer(marker_layer)\n",
    "# Call the figure to plot the data.\n",
    "fig"
   ]
  },
  {
   "cell_type": "code",
   "execution_count": 52,
   "id": "f58cade2",
   "metadata": {},
   "outputs": [
    {
     "name": "stdout",
     "output_type": "stream",
     "text": [
      "['\\n<dl>\\n<dt>Hotel Name</dt><dd>Hilo Hawaiian Hotel</dd>\\n<dt>City</dt><dd>Hilo</dd>\\n<dt>Country</dt><dd>US</dd>\\n<dt>Max Temp</dt><dd>78.53 °F</dd>\\n</dl>\\n', '\\n<dl>\\n<dt>Hotel Name</dt><dd>Courtyard by Marriott Houma</dd>\\n<dt>City</dt><dd>Houma</dd>\\n<dt>Country</dt><dd>US</dd>\\n<dt>Max Temp</dt><dd>87.8 °F</dd>\\n</dl>\\n', '\\n<dl>\\n<dt>Hotel Name</dt><dd>东晖国际大酒店餐厅</dd>\\n<dt>City</dt><dd>Qingdao</dd>\\n<dt>Country</dt><dd>CN</dd>\\n<dt>Max Temp</dt><dd>82.17 °F</dd>\\n</dl>\\n', '\\n<dl>\\n<dt>Hotel Name</dt><dd>Sadaat</dd>\\n<dt>City</dt><dd>Karachi</dd>\\n<dt>Country</dt><dd>PK</dd>\\n<dt>Max Temp</dt><dd>80.42 °F</dd>\\n</dl>\\n', '\\n<dl>\\n<dt>Hotel Name</dt><dd>Shwe Phyu Hotel</dd>\\n<dt>City</dt><dd>Myitkyina</dd>\\n<dt>Country</dt><dd>MM</dd>\\n<dt>Max Temp</dt><dd>75.85 °F</dd>\\n</dl>\\n', '\\n<dl>\\n<dt>Hotel Name</dt><dd>Scoop Guest House</dd>\\n<dt>City</dt><dd>Hithadhoo</dd>\\n<dt>Country</dt><dd>MV</dd>\\n<dt>Max Temp</dt><dd>80.92 °F</dd>\\n</dl>\\n', '\\n<dl>\\n<dt>Hotel Name</dt><dd>SEGAYA PROPERTY</dd>\\n<dt>City</dt><dd>Dingle</dd>\\n<dt>Country</dt><dd>PH</dd>\\n<dt>Max Temp</dt><dd>88.3 °F</dd>\\n</dl>\\n', '\\n<dl>\\n<dt>Hotel Name</dt><dd>Sheraton Kauai Coconut Beach Resort</dd>\\n<dt>City</dt><dd>Kapaa</dd>\\n<dt>Country</dt><dd>US</dd>\\n<dt>Max Temp</dt><dd>86.32 °F</dd>\\n</dl>\\n', '\\n<dl>\\n<dt>Hotel Name</dt><dd>Atlantis Hotel</dd>\\n<dt>City</dt><dd>Bathsheba</dd>\\n<dt>Country</dt><dd>BB</dd>\\n<dt>Max Temp</dt><dd>81.21 °F</dd>\\n</dl>\\n', '\\n<dl>\\n<dt>Hotel Name</dt><dd>Thank Inn Chain Hotel gansu wuwei liangzhou district xiguan middle road</dd>\\n<dt>City</dt><dd>Wuwei</dd>\\n<dt>Country</dt><dd>CN</dd>\\n<dt>Max Temp</dt><dd>87.93 °F</dd>\\n</dl>\\n', '\\n<dl>\\n<dt>Hotel Name</dt><dd>Cititel Penang</dd>\\n<dt>City</dt><dd>Georgetown</dd>\\n<dt>Country</dt><dd>MY</dd>\\n<dt>Max Temp</dt><dd>84.88 °F</dd>\\n</dl>\\n', '\\n<dl>\\n<dt>Hotel Name</dt><dd>Villa Enata</dd>\\n<dt>City</dt><dd>Atuona</dd>\\n<dt>Country</dt><dd>PF</dd>\\n<dt>Max Temp</dt><dd>77.4 °F</dd>\\n</dl>\\n', '\\n<dl>\\n<dt>Hotel Name</dt><dd>奄美ポートタワーホテル</dd>\\n<dt>City</dt><dd>Naze</dd>\\n<dt>Country</dt><dd>JP</dd>\\n<dt>Max Temp</dt><dd>83.32 °F</dd>\\n</dl>\\n', '\\n<dl>\\n<dt>Hotel Name</dt><dd>Heritage Hotel</dd>\\n<dt>City</dt><dd>Norman Wells</dd>\\n<dt>Country</dt><dd>CA</dd>\\n<dt>Max Temp</dt><dd>82.44 °F</dd>\\n</dl>\\n', '\\n<dl>\\n<dt>Hotel Name</dt><dd>Mercure Padang</dd>\\n<dt>City</dt><dd>Padang</dd>\\n<dt>Country</dt><dd>ID</dd>\\n<dt>Max Temp</dt><dd>84.25 °F</dd>\\n</dl>\\n', '\\n<dl>\\n<dt>Hotel Name</dt><dd>Pension Oaoa</dd>\\n<dt>City</dt><dd>Tautira</dd>\\n<dt>Country</dt><dd>PF</dd>\\n<dt>Max Temp</dt><dd>82.42 °F</dd>\\n</dl>\\n', '\\n<dl>\\n<dt>Hotel Name</dt><dd>Hotel Taroa</dd>\\n<dt>City</dt><dd>Riohacha</dd>\\n<dt>Country</dt><dd>CO</dd>\\n<dt>Max Temp</dt><dd>80.29 °F</dd>\\n</dl>\\n', '\\n<dl>\\n<dt>Hotel Name</dt><dd>Viña del Mar Omoa</dd>\\n<dt>City</dt><dd>Omoa</dd>\\n<dt>Country</dt><dd>HN</dd>\\n<dt>Max Temp</dt><dd>80.78 °F</dd>\\n</dl>\\n', \"\\n<dl>\\n<dt>Hotel Name</dt><dd>ROREM'S BOARDING HOUSE</dd>\\n<dt>City</dt><dd>Cabatuan</dd>\\n<dt>Country</dt><dd>PH</dd>\\n<dt>Max Temp</dt><dd>87.31 °F</dd>\\n</dl>\\n\", \"\\n<dl>\\n<dt>Hotel Name</dt><dd>Cj's Travellers Inn</dd>\\n<dt>City</dt><dd>Gigmoto</dd>\\n<dt>Country</dt><dd>PH</dd>\\n<dt>Max Temp</dt><dd>87.42 °F</dd>\\n</dl>\\n\", '\\n<dl>\\n<dt>Hotel Name</dt><dd>Paradise Inn</dd>\\n<dt>City</dt><dd>Avarua</dd>\\n<dt>Country</dt><dd>CK</dd>\\n<dt>Max Temp</dt><dd>75.25 °F</dd>\\n</dl>\\n', '\\n<dl>\\n<dt>Hotel Name</dt><dd>Ptarmigan Inn</dd>\\n<dt>City</dt><dd>Hay River</dd>\\n<dt>Country</dt><dd>CA</dd>\\n<dt>Max Temp</dt><dd>78.78 °F</dd>\\n</dl>\\n', '\\n<dl>\\n<dt>Hotel Name</dt><dd>The Fort Nelson Hotel</dd>\\n<dt>City</dt><dd>Fort Nelson</dd>\\n<dt>Country</dt><dd>CA</dd>\\n<dt>Max Temp</dt><dd>83.79 °F</dd>\\n</dl>\\n', \"\\n<dl>\\n<dt>Hotel Name</dt><dd>Bill's Inn</dd>\\n<dt>City</dt><dd>Nieves</dd>\\n<dt>Country</dt><dd>PH</dd>\\n<dt>Max Temp</dt><dd>84.72 °F</dd>\\n</dl>\\n\", '\\n<dl>\\n<dt>Hotel Name</dt><dd>The Explorer Hotel</dd>\\n<dt>City</dt><dd>Yellowknife</dd>\\n<dt>Country</dt><dd>CA</dd>\\n<dt>Max Temp</dt><dd>75.29 °F</dd>\\n</dl>\\n', '\\n<dl>\\n<dt>Hotel Name</dt><dd>quinta antigua</dd>\\n<dt>City</dt><dd>Lazaro Cardenas</dd>\\n<dt>Country</dt><dd>MX</dd>\\n<dt>Max Temp</dt><dd>79.25 °F</dd>\\n</dl>\\n', '\\n<dl>\\n<dt>Hotel Name</dt><dd>Desert Gardens Hotel - Ayers Rock Resort</dd>\\n<dt>City</dt><dd>Yulara</dd>\\n<dt>Country</dt><dd>AU</dd>\\n<dt>Max Temp</dt><dd>75.04 °F</dd>\\n</dl>\\n', '\\n<dl>\\n<dt>Hotel Name</dt><dd>Grage Hotel Bengkulu</dd>\\n<dt>City</dt><dd>Bengkulu</dd>\\n<dt>Country</dt><dd>ID</dd>\\n<dt>Max Temp</dt><dd>80.44 °F</dd>\\n</dl>\\n', \"\\n<dl>\\n<dt>Hotel Name</dt><dd>Gostinitsa Ki'ileekh</dd>\\n<dt>City</dt><dd>Batagay</dd>\\n<dt>Country</dt><dd>RU</dd>\\n<dt>Max Temp</dt><dd>75.87 °F</dd>\\n</dl>\\n\", '\\n<dl>\\n<dt>Hotel Name</dt><dd>Osprey Beach Hotel</dd>\\n<dt>City</dt><dd>Cockburn Town</dd>\\n<dt>Country</dt><dd>TC</dd>\\n<dt>Max Temp</dt><dd>82.33 °F</dd>\\n</dl>\\n', '\\n<dl>\\n<dt>Hotel Name</dt><dd>Katsuura Hotel Mikazuki</dd>\\n<dt>City</dt><dd>Katsuura</dd>\\n<dt>Country</dt><dd>JP</dd>\\n<dt>Max Temp</dt><dd>84.31 °F</dd>\\n</dl>\\n', '\\n<dl>\\n<dt>Hotel Name</dt><dd>JKL Inc. R.V Park and Storage</dd>\\n<dt>City</dt><dd>Meadow Lake</dd>\\n<dt>Country</dt><dd>US</dd>\\n<dt>Max Temp</dt><dd>84.31 °F</dd>\\n</dl>\\n', '\\n<dl>\\n<dt>Hotel Name</dt><dd>小林シティホテルPALACE</dd>\\n<dt>City</dt><dd>Kobayashi</dd>\\n<dt>Country</dt><dd>JP</dd>\\n<dt>Max Temp</dt><dd>86.77 °F</dd>\\n</dl>\\n', '\\n<dl>\\n<dt>Hotel Name</dt><dd>Hotel Kununurra</dd>\\n<dt>City</dt><dd>Kununurra</dd>\\n<dt>Country</dt><dd>AU</dd>\\n<dt>Max Temp</dt><dd>87.78 °F</dd>\\n</dl>\\n', '\\n<dl>\\n<dt>Hotel Name</dt><dd>Four Points by Sheraton Asheville Downtown</dd>\\n<dt>City</dt><dd>Asheville</dd>\\n<dt>Country</dt><dd>US</dd>\\n<dt>Max Temp</dt><dd>76.78 °F</dd>\\n</dl>\\n', '\\n<dl>\\n<dt>Hotel Name</dt><dd>Gostinitsa \"Zapolyar\\'ye\"</dd>\\n<dt>City</dt><dd>Khatanga</dd>\\n<dt>Country</dt><dd>RU</dd>\\n<dt>Max Temp</dt><dd>82.85 °F</dd>\\n</dl>\\n', '\\n<dl>\\n<dt>Hotel Name</dt><dd>Vahmoneh Lodge Vanimo</dd>\\n<dt>City</dt><dd>Vanimo</dd>\\n<dt>Country</dt><dd>PG</dd>\\n<dt>Max Temp</dt><dd>85.15 °F</dd>\\n</dl>\\n', '\\n<dl>\\n<dt>Hotel Name</dt><dd>Pastori 1 Jemaat Polycarpus</dd>\\n<dt>City</dt><dd>Atambua</dd>\\n<dt>Country</dt><dd>ID</dd>\\n<dt>Max Temp</dt><dd>83.34 °F</dd>\\n</dl>\\n', '\\n<dl>\\n<dt>Hotel Name</dt><dd>INN NEW HORIZON</dd>\\n<dt>City</dt><dd>Touros</dd>\\n<dt>Country</dt><dd>BR</dd>\\n<dt>Max Temp</dt><dd>76.1 °F</dd>\\n</dl>\\n', '\\n<dl>\\n<dt>Hotel Name</dt><dd>GreenTree Inn Linxia Autonomous Prefecture Linxia Oxford River Avenue Express Hotel</dd>\\n<dt>City</dt><dd>Linxia</dd>\\n<dt>Country</dt><dd>CN</dd>\\n<dt>Max Temp</dt><dd>77.23 °F</dd>\\n</dl>\\n', '\\n<dl>\\n<dt>Hotel Name</dt><dd>Fengshui Residence</dd>\\n<dt>City</dt><dd>Port-Gentil</dd>\\n<dt>Country</dt><dd>GA</dd>\\n<dt>Max Temp</dt><dd>75.74 °F</dd>\\n</dl>\\n', '\\n<dl>\\n<dt>Hotel Name</dt><dd>JM Lodge</dd>\\n<dt>City</dt><dd>San Policarpo</dd>\\n<dt>Country</dt><dd>PH</dd>\\n<dt>Max Temp</dt><dd>89.82 °F</dd>\\n</dl>\\n', '\\n<dl>\\n<dt>Hotel Name</dt><dd>KOSAN UNGU UNSIK</dd>\\n<dt>City</dt><dd>Kawalu</dd>\\n<dt>Country</dt><dd>ID</dd>\\n<dt>Max Temp</dt><dd>76.3 °F</dd>\\n</dl>\\n', '\\n<dl>\\n<dt>Hotel Name</dt><dd>The Jefferson Hotel</dd>\\n<dt>City</dt><dd>Richmond</dd>\\n<dt>Country</dt><dd>US</dd>\\n<dt>Max Temp</dt><dd>79.99 °F</dd>\\n</dl>\\n', '\\n<dl>\\n<dt>Hotel Name</dt><dd>Isles Sunset Lodge</dd>\\n<dt>City</dt><dd>Butaritari</dd>\\n<dt>Country</dt><dd>KI</dd>\\n<dt>Max Temp</dt><dd>80.26 °F</dd>\\n</dl>\\n', '\\n<dl>\\n<dt>Hotel Name</dt><dd>شرکت معماری مهراز شایگان آراد</dd>\\n<dt>City</dt><dd>Tabas</dd>\\n<dt>Country</dt><dd>IR</dd>\\n<dt>Max Temp</dt><dd>81.63 °F</dd>\\n</dl>\\n', '\\n<dl>\\n<dt>Hotel Name</dt><dd>Bungalow 63</dd>\\n<dt>City</dt><dd>Hambantota</dd>\\n<dt>Country</dt><dd>LK</dd>\\n<dt>Max Temp</dt><dd>80.89 °F</dd>\\n</dl>\\n', '\\n<dl>\\n<dt>Hotel Name</dt><dd>Laoyutang Resort</dd>\\n<dt>City</dt><dd>Hami</dd>\\n<dt>Country</dt><dd>CN</dd>\\n<dt>Max Temp</dt><dd>84.96 °F</dd>\\n</dl>\\n', '\\n<dl>\\n<dt>Hotel Name</dt><dd>Nusa Island Retreat</dd>\\n<dt>City</dt><dd>Kavieng</dd>\\n<dt>Country</dt><dd>PG</dd>\\n<dt>Max Temp</dt><dd>84.65 °F</dd>\\n</dl>\\n', '\\n<dl>\\n<dt>Hotel Name</dt><dd>محمد هادي ال فطيح</dd>\\n<dt>City</dt><dd>Najran</dd>\\n<dt>Country</dt><dd>SA</dd>\\n<dt>Max Temp</dt><dd>86.65 °F</dd>\\n</dl>\\n', '\\n<dl>\\n<dt>Hotel Name</dt><dd>Inn at Morro Bay</dd>\\n<dt>City</dt><dd>Morro Bay</dd>\\n<dt>Country</dt><dd>US</dd>\\n<dt>Max Temp</dt><dd>82.18 °F</dd>\\n</dl>\\n', '\\n<dl>\\n<dt>Hotel Name</dt><dd>Tarumã Tropical Hotel</dd>\\n<dt>City</dt><dd>Conceicao Do Araguaia</dd>\\n<dt>Country</dt><dd>BR</dd>\\n<dt>Max Temp</dt><dd>78.93 °F</dd>\\n</dl>\\n', '\\n<dl>\\n<dt>Hotel Name</dt><dd>Recanto dos Ferreiras</dd>\\n<dt>City</dt><dd>Mazagao</dd>\\n<dt>Country</dt><dd>BR</dd>\\n<dt>Max Temp</dt><dd>82.45 °F</dd>\\n</dl>\\n', '\\n<dl>\\n<dt>Hotel Name</dt><dd>Ramkota Hotel & Conference Center</dd>\\n<dt>City</dt><dd>Bismarck</dd>\\n<dt>Country</dt><dd>US</dd>\\n<dt>Max Temp</dt><dd>82.44 °F</dd>\\n</dl>\\n', '\\n<dl>\\n<dt>Hotel Name</dt><dd>Sur Plaza Hotel</dd>\\n<dt>City</dt><dd>Sur</dd>\\n<dt>Country</dt><dd>OM</dd>\\n<dt>Max Temp</dt><dd>87.06 °F</dd>\\n</dl>\\n', '\\n<dl>\\n<dt>Hotel Name</dt><dd>Resorts Resource Group International</dd>\\n<dt>City</dt><dd>Mayo</dd>\\n<dt>Country</dt><dd>US</dd>\\n<dt>Max Temp</dt><dd>80.55 °F</dd>\\n</dl>\\n', '\\n<dl>\\n<dt>Hotel Name</dt><dd>Hotel Wixel</dd>\\n<dt>City</dt><dd>Kendari</dd>\\n<dt>Country</dt><dd>ID</dd>\\n<dt>Max Temp</dt><dd>79.59 °F</dd>\\n</dl>\\n', '\\n<dl>\\n<dt>Hotel Name</dt><dd>怀化天庆大酒店</dd>\\n<dt>City</dt><dd>Huaihua</dd>\\n<dt>Country</dt><dd>CN</dd>\\n<dt>Max Temp</dt><dd>88.59 °F</dd>\\n</dl>\\n', '\\n<dl>\\n<dt>Hotel Name</dt><dd>Villa Mar Colina</dd>\\n<dt>City</dt><dd>Yeppoon</dd>\\n<dt>Country</dt><dd>AU</dd>\\n<dt>Max Temp</dt><dd>76.78 °F</dd>\\n</dl>\\n', '\\n<dl>\\n<dt>Hotel Name</dt><dd>القسم الداخلي للجامعة الأسمرية</dd>\\n<dt>City</dt><dd>Zlitan</dd>\\n<dt>Country</dt><dd>LY</dd>\\n<dt>Max Temp</dt><dd>81.39 °F</dd>\\n</dl>\\n', '\\n<dl>\\n<dt>Hotel Name</dt><dd>Semnan Tourist Hotel</dd>\\n<dt>City</dt><dd>Semnan</dd>\\n<dt>Country</dt><dd>IR</dd>\\n<dt>Max Temp</dt><dd>77.76 °F</dd>\\n</dl>\\n', '\\n<dl>\\n<dt>Hotel Name</dt><dd>Stampeder Motel</dd>\\n<dt>City</dt><dd>Williams Lake</dd>\\n<dt>Country</dt><dd>CA</dd>\\n<dt>Max Temp</dt><dd>89.17 °F</dd>\\n</dl>\\n', '\\n<dl>\\n<dt>Hotel Name</dt><dd>Guest House Ruslan Nurata & Tours</dd>\\n<dt>City</dt><dd>Nurota</dd>\\n<dt>Country</dt><dd>UZ</dd>\\n<dt>Max Temp</dt><dd>75.29 °F</dd>\\n</dl>\\n', '\\n<dl>\\n<dt>Hotel Name</dt><dd>Отель \"БАЛИ\"</dd>\\n<dt>City</dt><dd>Vrangel</dd>\\n<dt>Country</dt><dd>RU</dd>\\n<dt>Max Temp</dt><dd>79.65 °F</dd>\\n</dl>\\n', '\\n<dl>\\n<dt>Hotel Name</dt><dd>Hotel On The Rock by Prasanthi</dd>\\n<dt>City</dt><dd>Kupang</dd>\\n<dt>Country</dt><dd>ID</dd>\\n<dt>Max Temp</dt><dd>86.58 °F</dd>\\n</dl>\\n', '\\n<dl>\\n<dt>Hotel Name</dt><dd>Seagulls Inn Namatani</dd>\\n<dt>City</dt><dd>Namatanai</dd>\\n<dt>Country</dt><dd>PG</dd>\\n<dt>Max Temp</dt><dd>84.33 °F</dd>\\n</dl>\\n', '\\n<dl>\\n<dt>Hotel Name</dt><dd>Balneario Rio el Paraiso</dd>\\n<dt>City</dt><dd>Nuevo Progreso</dd>\\n<dt>Country</dt><dd>MX</dd>\\n<dt>Max Temp</dt><dd>83.59 °F</dd>\\n</dl>\\n', '\\n<dl>\\n<dt>Hotel Name</dt><dd>Raybow International Hotel</dd>\\n<dt>City</dt><dd>Takoradi</dd>\\n<dt>Country</dt><dd>GH</dd>\\n<dt>Max Temp</dt><dd>75.11 °F</dd>\\n</dl>\\n', '\\n<dl>\\n<dt>Hotel Name</dt><dd>degu Shiferaw</dd>\\n<dt>City</dt><dd>Dubti</dd>\\n<dt>Country</dt><dd>ET</dd>\\n<dt>Max Temp</dt><dd>79.18 °F</dd>\\n</dl>\\n', '\\n<dl>\\n<dt>Hotel Name</dt><dd>Hotel Nemuro Kaiyoutei</dd>\\n<dt>City</dt><dd>Nemuro</dd>\\n<dt>Country</dt><dd>JP</dd>\\n<dt>Max Temp</dt><dd>82.83 °F</dd>\\n</dl>\\n', '\\n<dl>\\n<dt>Hotel Name</dt><dd>Kost Pria</dd>\\n<dt>City</dt><dd>Meulaboh</dd>\\n<dt>Country</dt><dd>ID</dd>\\n<dt>Max Temp</dt><dd>78.01 °F</dd>\\n</dl>\\n', '\\n<dl>\\n<dt>Hotel Name</dt><dd>yefssah restaurant</dd>\\n<dt>City</dt><dd>Timizart</dd>\\n<dt>Country</dt><dd>DZ</dd>\\n<dt>Max Temp</dt><dd>84.72 °F</dd>\\n</dl>\\n', '\\n<dl>\\n<dt>Hotel Name</dt><dd>Desert Palms Alice Springs</dd>\\n<dt>City</dt><dd>Alice Springs</dd>\\n<dt>Country</dt><dd>AU</dd>\\n<dt>Max Temp</dt><dd>83.75 °F</dd>\\n</dl>\\n', '\\n<dl>\\n<dt>Hotel Name</dt><dd>Pilgrim Inn</dd>\\n<dt>City</dt><dd>Caronport</dd>\\n<dt>Country</dt><dd>CA</dd>\\n<dt>Max Temp</dt><dd>83.68 °F</dd>\\n</dl>\\n', '\\n<dl>\\n<dt>Hotel Name</dt><dd>JABIR HOTEL</dd>\\n<dt>City</dt><dd>Bandarbeyla</dd>\\n<dt>Country</dt><dd>SO</dd>\\n<dt>Max Temp</dt><dd>76.15 °F</dd>\\n</dl>\\n', '\\n<dl>\\n<dt>Hotel Name</dt><dd>ALETHEIA Appartement Sinnamary</dd>\\n<dt>City</dt><dd>Sinnamary</dd>\\n<dt>Country</dt><dd>GF</dd>\\n<dt>Max Temp</dt><dd>78.15 °F</dd>\\n</dl>\\n', '\\n<dl>\\n<dt>Hotel Name</dt><dd>Casa Dora, Bubaque</dd>\\n<dt>City</dt><dd>Bubaque</dd>\\n<dt>Country</dt><dd>GW</dd>\\n<dt>Max Temp</dt><dd>78.82 °F</dd>\\n</dl>\\n', '\\n<dl>\\n<dt>Hotel Name</dt><dd>Cabañas City Heart</dd>\\n<dt>City</dt><dd>Santo Domingo</dd>\\n<dt>Country</dt><dd>DO</dd>\\n<dt>Max Temp</dt><dd>79.93 °F</dd>\\n</dl>\\n', '\\n<dl>\\n<dt>Hotel Name</dt><dd>Hotel Villa Dvor</dd>\\n<dt>City</dt><dd>Omis</dd>\\n<dt>Country</dt><dd>HR</dd>\\n<dt>Max Temp</dt><dd>77.77 °F</dd>\\n</dl>\\n', '\\n<dl>\\n<dt>Hotel Name</dt><dd>Gostinitsa Rosmorport.</dd>\\n<dt>City</dt><dd>Olga</dd>\\n<dt>Country</dt><dd>RU</dd>\\n<dt>Max Temp</dt><dd>80.71 °F</dd>\\n</dl>\\n', '\\n<dl>\\n<dt>Hotel Name</dt><dd>HOTEL PLACE YALABA</dd>\\n<dt>City</dt><dd>Kikwit</dd>\\n<dt>Country</dt><dd>CD</dd>\\n<dt>Max Temp</dt><dd>78.22 °F</dd>\\n</dl>\\n', \"\\n<dl>\\n<dt>Hotel Name</dt><dd>Cattleman's Rest Motor Inn</dd>\\n<dt>City</dt><dd>Charters Towers</dd>\\n<dt>Country</dt><dd>AU</dd>\\n<dt>Max Temp</dt><dd>80.89 °F</dd>\\n</dl>\\n\", '\\n<dl>\\n<dt>Hotel Name</dt><dd>El rranchito michuacan de ocampos</dd>\\n<dt>City</dt><dd>Coahuayana</dd>\\n<dt>Country</dt><dd>MX</dd>\\n<dt>Max Temp</dt><dd>83.68 °F</dd>\\n</dl>\\n', '\\n<dl>\\n<dt>Hotel Name</dt><dd>ZINGARA 76ft Catamaran, full crew-all included</dd>\\n<dt>City</dt><dd>Road Town</dd>\\n<dt>Country</dt><dd>VG</dd>\\n<dt>Max Temp</dt><dd>82.2 °F</dd>\\n</dl>\\n', '\\n<dl>\\n<dt>Hotel Name</dt><dd>Hotel 1948 Manresa</dd>\\n<dt>City</dt><dd>Manresa</dd>\\n<dt>Country</dt><dd>ES</dd>\\n<dt>Max Temp</dt><dd>75.33 °F</dd>\\n</dl>\\n', '\\n<dl>\\n<dt>Hotel Name</dt><dd>Maitai Lapita Village Huahine</dd>\\n<dt>City</dt><dd>Fare</dd>\\n<dt>Country</dt><dd>PF</dd>\\n<dt>Max Temp</dt><dd>77.58 °F</dd>\\n</dl>\\n', '\\n<dl>\\n<dt>Hotel Name</dt><dd>POUSADA DA ALDENORA</dd>\\n<dt>City</dt><dd>Careiro Da Varzea</dd>\\n<dt>Country</dt><dd>BR</dd>\\n<dt>Max Temp</dt><dd>77.61 °F</dd>\\n</dl>\\n', '\\n<dl>\\n<dt>Hotel Name</dt><dd>Yos ega cv</dd>\\n<dt>City</dt><dd>Boyolangu</dd>\\n<dt>Country</dt><dd>ID</dd>\\n<dt>Max Temp</dt><dd>80.37 °F</dd>\\n</dl>\\n', '\\n<dl>\\n<dt>Hotel Name</dt><dd>Дом у Мамы</dd>\\n<dt>City</dt><dd>Suntar</dd>\\n<dt>Country</dt><dd>RU</dd>\\n<dt>Max Temp</dt><dd>75.83 °F</dd>\\n</dl>\\n', '\\n<dl>\\n<dt>Hotel Name</dt><dd>Hotels in Lakshadweep Islands</dd>\\n<dt>City</dt><dd>Kavaratti</dd>\\n<dt>Country</dt><dd>IN</dd>\\n<dt>Max Temp</dt><dd>82.47 °F</dd>\\n</dl>\\n', '\\n<dl>\\n<dt>Hotel Name</dt><dd>Pondok Wisata Elim</dd>\\n<dt>City</dt><dd>Waingapu</dd>\\n<dt>Country</dt><dd>ID</dd>\\n<dt>Max Temp</dt><dd>84.85 °F</dd>\\n</dl>\\n', '\\n<dl>\\n<dt>Hotel Name</dt><dd>R & R Inn & Suites</dd>\\n<dt>City</dt><dd>Camrose</dd>\\n<dt>Country</dt><dd>CA</dd>\\n<dt>Max Temp</dt><dd>81.39 °F</dd>\\n</dl>\\n', '\\n<dl>\\n<dt>Hotel Name</dt><dd>Hotel Xaguate</dd>\\n<dt>City</dt><dd>Sao Filipe</dd>\\n<dt>Country</dt><dd>CV</dd>\\n<dt>Max Temp</dt><dd>75.61 °F</dd>\\n</dl>\\n', '\\n<dl>\\n<dt>Hotel Name</dt><dd>Prestige Hudson Bay Lodge, Premier Collection</dd>\\n<dt>City</dt><dd>Smithers</dd>\\n<dt>Country</dt><dd>CA</dd>\\n<dt>Max Temp</dt><dd>86.32 °F</dd>\\n</dl>\\n', '\\n<dl>\\n<dt>Hotel Name</dt><dd>Hotel Syariah CN Darussalam</dd>\\n<dt>City</dt><dd>Sibolga</dd>\\n<dt>Country</dt><dd>ID</dd>\\n<dt>Max Temp</dt><dd>82.27 °F</dd>\\n</dl>\\n', '\\n<dl>\\n<dt>Hotel Name</dt><dd>The Ritz-Carlton, Philadelphia</dd>\\n<dt>City</dt><dd>Filadelfia</dd>\\n<dt>Country</dt><dd>US</dd>\\n<dt>Max Temp</dt><dd>75.09 °F</dd>\\n</dl>\\n', '\\n<dl>\\n<dt>Hotel Name</dt><dd>امياس للصرافة</dd>\\n<dt>City</dt><dd>Jadu</dd>\\n<dt>Country</dt><dd>LY</dd>\\n<dt>Max Temp</dt><dd>78.04 °F</dd>\\n</dl>\\n', '\\n<dl>\\n<dt>Hotel Name</dt><dd>Oasis hotel Bautino</dd>\\n<dt>City</dt><dd>Fort-Shevchenko</dd>\\n<dt>Country</dt><dd>KZ</dd>\\n<dt>Max Temp</dt><dd>79.16 °F</dd>\\n</dl>\\n', '\\n<dl>\\n<dt>Hotel Name</dt><dd>Welcomhotel By ITC Hotels, Bay Island, Port Blair</dd>\\n<dt>City</dt><dd>Port Blair</dd>\\n<dt>Country</dt><dd>IN</dd>\\n<dt>Max Temp</dt><dd>82.99 °F</dd>\\n</dl>\\n', '\\n<dl>\\n<dt>Hotel Name</dt><dd>Calypso Cove</dd>\\n<dt>City</dt><dd>West Bay</dd>\\n<dt>Country</dt><dd>KY</dd>\\n<dt>Max Temp</dt><dd>84.27 °F</dd>\\n</dl>\\n', '\\n<dl>\\n<dt>Hotel Name</dt><dd>Hotel Principal Paredon</dd>\\n<dt>City</dt><dd>Paredon</dd>\\n<dt>Country</dt><dd>MX</dd>\\n<dt>Max Temp</dt><dd>82.44 °F</dd>\\n</dl>\\n', '\\n<dl>\\n<dt>Hotel Name</dt><dd>Sadokamoko Onsen Kohanno Yado Yoshidaya</dd>\\n<dt>City</dt><dd>Ryotsu</dd>\\n<dt>Country</dt><dd>JP</dd>\\n<dt>Max Temp</dt><dd>85.96 °F</dd>\\n</dl>\\n', '\\n<dl>\\n<dt>Hotel Name</dt><dd>Posada Villaven C.A.</dd>\\n<dt>City</dt><dd>San Cristobal</dd>\\n<dt>Country</dt><dd>VE</dd>\\n<dt>Max Temp</dt><dd>75.38 °F</dd>\\n</dl>\\n', '\\n<dl>\\n<dt>Hotel Name</dt><dd>Foundation Taaj Asala for Historical Research and Archeology</dd>\\n<dt>City</dt><dd>Sabha</dd>\\n<dt>Country</dt><dd>LY</dd>\\n<dt>Max Temp</dt><dd>81.72 °F</dd>\\n</dl>\\n', '\\n<dl>\\n<dt>Hotel Name</dt><dd>900 Boutique INN</dd>\\n<dt>City</dt><dd>Bintulu</dd>\\n<dt>Country</dt><dd>MY</dd>\\n<dt>Max Temp</dt><dd>81.01 °F</dd>\\n</dl>\\n', '\\n<dl>\\n<dt>Hotel Name</dt><dd>Moondarra Motel</dd>\\n<dt>City</dt><dd>Innisfail</dd>\\n<dt>Country</dt><dd>AU</dd>\\n<dt>Max Temp</dt><dd>86.88 °F</dd>\\n</dl>\\n', '\\n<dl>\\n<dt>Hotel Name</dt><dd>Hotel Amenokal</dd>\\n<dt>City</dt><dd>Ayorou</dd>\\n<dt>Country</dt><dd>NE</dd>\\n<dt>Max Temp</dt><dd>88.02 °F</dd>\\n</dl>\\n', '\\n<dl>\\n<dt>Hotel Name</dt><dd>Maui Seaside Hotel</dd>\\n<dt>City</dt><dd>Kahului</dd>\\n<dt>Country</dt><dd>US</dd>\\n<dt>Max Temp</dt><dd>84.22 °F</dd>\\n</dl>\\n', '\\n<dl>\\n<dt>Hotel Name</dt><dd>Hotel Sunrise Choshi</dd>\\n<dt>City</dt><dd>Hasaki</dd>\\n<dt>Country</dt><dd>JP</dd>\\n<dt>Max Temp</dt><dd>86.29 °F</dd>\\n</dl>\\n', '\\n<dl>\\n<dt>Hotel Name</dt><dd>Minshuku Agaihama</dd>\\n<dt>City</dt><dd>Nishihara</dd>\\n<dt>Country</dt><dd>JP</dd>\\n<dt>Max Temp</dt><dd>87.46 °F</dd>\\n</dl>\\n', '\\n<dl>\\n<dt>Hotel Name</dt><dd>Ikathouse</dd>\\n<dt>City</dt><dd>Komsomolskiy</dd>\\n<dt>Country</dt><dd>UZ</dd>\\n<dt>Max Temp</dt><dd>77.72 °F</dd>\\n</dl>\\n', '\\n<dl>\\n<dt>Hotel Name</dt><dd>Shuangliu Love Home Business Hotel</dd>\\n<dt>City</dt><dd>Tianpeng</dd>\\n<dt>Country</dt><dd>CN</dd>\\n<dt>Max Temp</dt><dd>88.27 °F</dd>\\n</dl>\\n', '\\n<dl>\\n<dt>Hotel Name</dt><dd>Makkah Clock Royal Tower, A Fairmont Hotel</dd>\\n<dt>City</dt><dd>Mecca</dd>\\n<dt>Country</dt><dd>SA</dd>\\n<dt>Max Temp</dt><dd>85.42 °F</dd>\\n</dl>\\n', '\\n<dl>\\n<dt>Hotel Name</dt><dd>Khách Sạn Mường Thanh Luxury Cà Mau</dd>\\n<dt>City</dt><dd>Ca Mau</dd>\\n<dt>Country</dt><dd>VN</dd>\\n<dt>Max Temp</dt><dd>81.73 °F</dd>\\n</dl>\\n', '\\n<dl>\\n<dt>Hotel Name</dt><dd>فندق راحة السلام</dd>\\n<dt>City</dt><dd>Buraydah</dd>\\n<dt>Country</dt><dd>SA</dd>\\n<dt>Max Temp</dt><dd>82.85 °F</dd>\\n</dl>\\n', '\\n<dl>\\n<dt>Hotel Name</dt><dd>Sea Lounge! Bar, Club & Restaurant</dd>\\n<dt>City</dt><dd>Itarema</dd>\\n<dt>Country</dt><dd>BR</dd>\\n<dt>Max Temp</dt><dd>78.89 °F</dd>\\n</dl>\\n', '\\n<dl>\\n<dt>Hotel Name</dt><dd>Bora-Bora Pearl Beach Resort & Spa</dd>\\n<dt>City</dt><dd>Faanui</dd>\\n<dt>Country</dt><dd>PF</dd>\\n<dt>Max Temp</dt><dd>77.67 °F</dd>\\n</dl>\\n', '\\n<dl>\\n<dt>Hotel Name</dt><dd>Grand Star Guest House</dd>\\n<dt>City</dt><dd>Batticaloa</dd>\\n<dt>Country</dt><dd>LK</dd>\\n<dt>Max Temp</dt><dd>81.07 °F</dd>\\n</dl>\\n', '\\n<dl>\\n<dt>Hotel Name</dt><dd>Lovers Point Inn</dd>\\n<dt>City</dt><dd>Pacific Grove</dd>\\n<dt>Country</dt><dd>US</dd>\\n<dt>Max Temp</dt><dd>81.25 °F</dd>\\n</dl>\\n', '\\n<dl>\\n<dt>Hotel Name</dt><dd>Hotel Festival Plaza Rosarito</dd>\\n<dt>City</dt><dd>Rosarito</dd>\\n<dt>Country</dt><dd>MX</dd>\\n<dt>Max Temp</dt><dd>82.04 °F</dd>\\n</dl>\\n', '\\n<dl>\\n<dt>Hotel Name</dt><dd>HAMDAN PLAZA HOTEL SALALAH</dd>\\n<dt>City</dt><dd>Salalah</dd>\\n<dt>Country</dt><dd>OM</dd>\\n<dt>Max Temp</dt><dd>77.09 °F</dd>\\n</dl>\\n', '\\n<dl>\\n<dt>Hotel Name</dt><dd>Hotel Route Inn Ishinomaki Henan Inter</dd>\\n<dt>City</dt><dd>Ishinomaki</dd>\\n<dt>Country</dt><dd>JP</dd>\\n<dt>Max Temp</dt><dd>80.6 °F</dd>\\n</dl>\\n', '\\n<dl>\\n<dt>Hotel Name</dt><dd>Aklavik Inn</dd>\\n<dt>City</dt><dd>Aklavik</dd>\\n<dt>Country</dt><dd>CA</dd>\\n<dt>Max Temp</dt><dd>75.92 °F</dd>\\n</dl>\\n', '\\n<dl>\\n<dt>Hotel Name</dt><dd>Medhufushi Island Resort</dd>\\n<dt>City</dt><dd>Muli</dd>\\n<dt>Country</dt><dd>MV</dd>\\n<dt>Max Temp</dt><dd>82.2 °F</dd>\\n</dl>\\n', '\\n<dl>\\n<dt>Hotel Name</dt><dd>Boomtown Casino & Hotel New Orleans</dd>\\n<dt>City</dt><dd>Estelle</dd>\\n<dt>Country</dt><dd>US</dd>\\n<dt>Max Temp</dt><dd>89.6 °F</dd>\\n</dl>\\n', '\\n<dl>\\n<dt>Hotel Name</dt><dd>ibis Styles Mt Isa Verona</dd>\\n<dt>City</dt><dd>Mount Isa</dd>\\n<dt>Country</dt><dd>AU</dd>\\n<dt>Max Temp</dt><dd>89.37 °F</dd>\\n</dl>\\n', '\\n<dl>\\n<dt>Hotel Name</dt><dd>Hotel Costa Marina</dd>\\n<dt>City</dt><dd>Pedernales</dd>\\n<dt>Country</dt><dd>DO</dd>\\n<dt>Max Temp</dt><dd>82.74 °F</dd>\\n</dl>\\n', '\\n<dl>\\n<dt>Hotel Name</dt><dd>Al Djadid</dd>\\n<dt>City</dt><dd>Domoni</dd>\\n<dt>Country</dt><dd>KM</dd>\\n<dt>Max Temp</dt><dd>75.72 °F</dd>\\n</dl>\\n', '\\n<dl>\\n<dt>Hotel Name</dt><dd>Deep Forest Garden Inn</dd>\\n<dt>City</dt><dd>Puerto Princesa</dd>\\n<dt>Country</dt><dd>PH</dd>\\n<dt>Max Temp</dt><dd>87.12 °F</dd>\\n</dl>\\n', '\\n<dl>\\n<dt>Hotel Name</dt><dd>CeBlue Villas & Beach Resort</dd>\\n<dt>City</dt><dd>The Valley</dd>\\n<dt>Country</dt><dd>AI</dd>\\n<dt>Max Temp</dt><dd>82.81 °F</dd>\\n</dl>\\n', '\\n<dl>\\n<dt>Hotel Name</dt><dd>Pin Drop Hotel</dd>\\n<dt>City</dt><dd>Anloga</dd>\\n<dt>Country</dt><dd>GH</dd>\\n<dt>Max Temp</dt><dd>76.62 °F</dd>\\n</dl>\\n', '\\n<dl>\\n<dt>Hotel Name</dt><dd>Sun Stay Kaseda</dd>\\n<dt>City</dt><dd>Kaseda</dd>\\n<dt>Country</dt><dd>JP</dd>\\n<dt>Max Temp</dt><dd>88.84 °F</dd>\\n</dl>\\n', '\\n<dl>\\n<dt>Hotel Name</dt><dd>Uncle Junior Robert</dd>\\n<dt>City</dt><dd>Ewa Beach</dd>\\n<dt>Country</dt><dd>US</dd>\\n<dt>Max Temp</dt><dd>87.75 °F</dd>\\n</dl>\\n', '\\n<dl>\\n<dt>Hotel Name</dt><dd>LT Aparthotel</dd>\\n<dt>City</dt><dd>Praia</dd>\\n<dt>Country</dt><dd>CV</dd>\\n<dt>Max Temp</dt><dd>77.54 °F</dd>\\n</dl>\\n', '\\n<dl>\\n<dt>Hotel Name</dt><dd>Jeevan</dd>\\n<dt>City</dt><dd>Yarada</dd>\\n<dt>Country</dt><dd>IN</dd>\\n<dt>Max Temp</dt><dd>84.52 °F</dd>\\n</dl>\\n', '\\n<dl>\\n<dt>Hotel Name</dt><dd>Motel 6 Sinton, TX</dd>\\n<dt>City</dt><dd>San Patricio</dd>\\n<dt>Country</dt><dd>US</dd>\\n<dt>Max Temp</dt><dd>85.86 °F</dd>\\n</dl>\\n', '\\n<dl>\\n<dt>Hotel Name</dt><dd>安琪酒店</dd>\\n<dt>City</dt><dd>Ankang</dd>\\n<dt>Country</dt><dd>CN</dd>\\n<dt>Max Temp</dt><dd>86.38 °F</dd>\\n</dl>\\n', '\\n<dl>\\n<dt>Hotel Name</dt><dd>The Espiritu Hotel</dd>\\n<dt>City</dt><dd>Luganville</dd>\\n<dt>Country</dt><dd>VU</dd>\\n<dt>Max Temp</dt><dd>80.2 °F</dd>\\n</dl>\\n', '\\n<dl>\\n<dt>Hotel Name</dt><dd>Lorengau Harbourside Hotel</dd>\\n<dt>City</dt><dd>Lorengau</dd>\\n<dt>Country</dt><dd>PG</dd>\\n<dt>Max Temp</dt><dd>84.25 °F</dd>\\n</dl>\\n', '\\n<dl>\\n<dt>Hotel Name</dt><dd>VS Villa</dd>\\n<dt>City</dt><dd>Kalmunai</dd>\\n<dt>Country</dt><dd>LK</dd>\\n<dt>Max Temp</dt><dd>81.52 °F</dd>\\n</dl>\\n', '\\n<dl>\\n<dt>Hotel Name</dt><dd>Timos Transit House</dd>\\n<dt>City</dt><dd>Popondetta</dd>\\n<dt>Country</dt><dd>PG</dd>\\n<dt>Max Temp</dt><dd>88.81 °F</dd>\\n</dl>\\n', '\\n<dl>\\n<dt>Hotel Name</dt><dd>HS Hotsson Smart Acapulco</dd>\\n<dt>City</dt><dd>Acapulco</dd>\\n<dt>Country</dt><dd>MX</dd>\\n<dt>Max Temp</dt><dd>82.22 °F</dd>\\n</dl>\\n', '\\n<dl>\\n<dt>Hotel Name</dt><dd>Sunset Inn</dd>\\n<dt>City</dt><dd>Monrovia</dd>\\n<dt>Country</dt><dd>LR</dd>\\n<dt>Max Temp</dt><dd>76.77 °F</dd>\\n</dl>\\n', '\\n<dl>\\n<dt>Hotel Name</dt><dd>OlusHome</dd>\\n<dt>City</dt><dd>Gat</dd>\\n<dt>Country</dt><dd>IL</dd>\\n<dt>Max Temp</dt><dd>78.4 °F</dd>\\n</dl>\\n', '\\n<dl>\\n<dt>Hotel Name</dt><dd>Hondaafushi Island Resort</dd>\\n<dt>City</dt><dd>Kulhudhuffushi</dd>\\n<dt>Country</dt><dd>MV</dd>\\n<dt>Max Temp</dt><dd>82.2 °F</dd>\\n</dl>\\n', '\\n<dl>\\n<dt>Hotel Name</dt><dd>Hotel Nusantara Nabire</dd>\\n<dt>City</dt><dd>Nabire</dd>\\n<dt>Country</dt><dd>ID</dd>\\n<dt>Max Temp</dt><dd>84.45 °F</dd>\\n</dl>\\n', '\\n<dl>\\n<dt>Hotel Name</dt><dd>Nancy Montanes Bernardo</dd>\\n<dt>City</dt><dd>Dicabisagan</dd>\\n<dt>Country</dt><dd>PH</dd>\\n<dt>Max Temp</dt><dd>88.72 °F</dd>\\n</dl>\\n', '\\n<dl>\\n<dt>Hotel Name</dt><dd>Hôtel La Giralda</dd>\\n<dt>City</dt><dd>Nador</dd>\\n<dt>Country</dt><dd>MA</dd>\\n<dt>Max Temp</dt><dd>80.85 °F</dd>\\n</dl>\\n', '\\n<dl>\\n<dt>Hotel Name</dt><dd>East Arnhem Real Estate</dd>\\n<dt>City</dt><dd>Nhulunbuy</dd>\\n<dt>Country</dt><dd>AU</dd>\\n<dt>Max Temp</dt><dd>84.81 °F</dd>\\n</dl>\\n', '\\n<dl>\\n<dt>Hotel Name</dt><dd>Storyboard Beach Resort</dd>\\n<dt>City</dt><dd>Kloulklubed</dd>\\n<dt>Country</dt><dd>PW</dd>\\n<dt>Max Temp</dt><dd>88.3 °F</dd>\\n</dl>\\n', '\\n<dl>\\n<dt>Hotel Name</dt><dd>The Esplanade Hotel</dd>\\n<dt>City</dt><dd>Port Hedland</dd>\\n<dt>Country</dt><dd>AU</dd>\\n<dt>Max Temp</dt><dd>77.05 °F</dd>\\n</dl>\\n', '\\n<dl>\\n<dt>Hotel Name</dt><dd>OYO 3271 Homestay Pandian</dd>\\n<dt>City</dt><dd>Sumenep</dd>\\n<dt>Country</dt><dd>ID</dd>\\n<dt>Max Temp</dt><dd>84.94 °F</dd>\\n</dl>\\n', '\\n<dl>\\n<dt>Hotel Name</dt><dd>PT PPI Lamongan Tambak C</dd>\\n<dt>City</dt><dd>Labuhan</dd>\\n<dt>Country</dt><dd>ID</dd>\\n<dt>Max Temp</dt><dd>83.66 °F</dd>\\n</dl>\\n', '\\n<dl>\\n<dt>Hotel Name</dt><dd>MUMTAZ GANJ TANDA</dd>\\n<dt>City</dt><dd>Tanda</dd>\\n<dt>Country</dt><dd>IN</dd>\\n<dt>Max Temp</dt><dd>82.49 °F</dd>\\n</dl>\\n', '\\n<dl>\\n<dt>Hotel Name</dt><dd>Cee Dee Regency</dd>\\n<dt>City</dt><dd>Chittur</dd>\\n<dt>Country</dt><dd>IN</dd>\\n<dt>Max Temp</dt><dd>78.35 °F</dd>\\n</dl>\\n', '\\n<dl>\\n<dt>Hotel Name</dt><dd>Macs</dd>\\n<dt>City</dt><dd>Russell</dd>\\n<dt>Country</dt><dd>US</dd>\\n<dt>Max Temp</dt><dd>85.6 °F</dd>\\n</dl>\\n', '\\n<dl>\\n<dt>Hotel Name</dt><dd>Gulisitan Hotel</dd>\\n<dt>City</dt><dd>Korla</dd>\\n<dt>Country</dt><dd>CN</dd>\\n<dt>Max Temp</dt><dd>87.13 °F</dd>\\n</dl>\\n', '\\n<dl>\\n<dt>Hotel Name</dt><dd>Río Nabagana</dd>\\n<dt>City</dt><dd>Tubuala</dd>\\n<dt>Country</dt><dd>PA</dd>\\n<dt>Max Temp</dt><dd>80.33 °F</dd>\\n</dl>\\n', '\\n<dl>\\n<dt>Hotel Name</dt><dd>Welcombe Hotel</dd>\\n<dt>City</dt><dd>Trincomalee</dd>\\n<dt>Country</dt><dd>LK</dd>\\n<dt>Max Temp</dt><dd>81.7 °F</dd>\\n</dl>\\n', '\\n<dl>\\n<dt>Hotel Name</dt><dd>GreenTree Inn Taizhou Jingjiang Jiangping Road Shanghai City Business Hotel</dd>\\n<dt>City</dt><dd>Jingcheng</dd>\\n<dt>Country</dt><dd>CN</dd>\\n<dt>Max Temp</dt><dd>89.02 °F</dd>\\n</dl>\\n', '\\n<dl>\\n<dt>Hotel Name</dt><dd>Hotel Sunset Beach</dd>\\n<dt>City</dt><dd>Negombo</dd>\\n<dt>Country</dt><dd>LK</dd>\\n<dt>Max Temp</dt><dd>80.56 °F</dd>\\n</dl>\\n', '\\n<dl>\\n<dt>Hotel Name</dt><dd>Hotel RIKMAN Continental</dd>\\n<dt>City</dt><dd>Tura</dd>\\n<dt>Country</dt><dd>IN</dd>\\n<dt>Max Temp</dt><dd>75.65 °F</dd>\\n</dl>\\n', '\\n<dl>\\n<dt>Hotel Name</dt><dd>Kiat Ngong Wetland BUNGALOW</dd>\\n<dt>City</dt><dd>Champasak</dd>\\n<dt>Country</dt><dd>LA</dd>\\n<dt>Max Temp</dt><dd>79.68 °F</dd>\\n</dl>\\n', '\\n<dl>\\n<dt>Hotel Name</dt><dd>Abaco Beach Resort</dd>\\n<dt>City</dt><dd>Marsh Harbour</dd>\\n<dt>Country</dt><dd>BS</dd>\\n<dt>Max Temp</dt><dd>83.77 °F</dd>\\n</dl>\\n', '\\n<dl>\\n<dt>Hotel Name</dt><dd>Courtyard by Marriott Harlingen</dd>\\n<dt>City</dt><dd>Harlingen</dd>\\n<dt>Country</dt><dd>US</dd>\\n<dt>Max Temp</dt><dd>87.35 °F</dd>\\n</dl>\\n', '\\n<dl>\\n<dt>Hotel Name</dt><dd>Best Western Green Valley Inn</dd>\\n<dt>City</dt><dd>Green Valley</dd>\\n<dt>Country</dt><dd>US</dd>\\n<dt>Max Temp</dt><dd>84.69 °F</dd>\\n</dl>\\n', '\\n<dl>\\n<dt>Hotel Name</dt><dd>Sloth Island Nature Resort</dd>\\n<dt>City</dt><dd>Bartica</dd>\\n<dt>Country</dt><dd>GY</dd>\\n<dt>Max Temp</dt><dd>77.32 °F</dd>\\n</dl>\\n', '\\n<dl>\\n<dt>Hotel Name</dt><dd>Hotel Mayumir</dd>\\n<dt>City</dt><dd>Curumani</dd>\\n<dt>Country</dt><dd>CO</dd>\\n<dt>Max Temp</dt><dd>76.39 °F</dd>\\n</dl>\\n', '\\n<dl>\\n<dt>Hotel Name</dt><dd>Trinity Plains Tourist Park</dd>\\n<dt>City</dt><dd>Mareeba</dd>\\n<dt>Country</dt><dd>AU</dd>\\n<dt>Max Temp</dt><dd>82.33 °F</dd>\\n</dl>\\n', '\\n<dl>\\n<dt>Hotel Name</dt><dd>Hotel Route Inn Kamaishi</dd>\\n<dt>City</dt><dd>Kamaishi</dd>\\n<dt>Country</dt><dd>JP</dd>\\n<dt>Max Temp</dt><dd>85.15 °F</dd>\\n</dl>\\n', '\\n<dl>\\n<dt>Hotel Name</dt><dd>Radisson Grenada Beach Resort</dd>\\n<dt>City</dt><dd>Saint-Georges</dd>\\n<dt>Country</dt><dd>GD</dd>\\n<dt>Max Temp</dt><dd>80.28 °F</dd>\\n</dl>\\n', '\\n<dl>\\n<dt>Hotel Name</dt><dd>Shimoda Tokyu Hotel</dd>\\n<dt>City</dt><dd>Shimoda</dd>\\n<dt>Country</dt><dd>JP</dd>\\n<dt>Max Temp</dt><dd>82.11 °F</dd>\\n</dl>\\n', '\\n<dl>\\n<dt>Hotel Name</dt><dd>In Wewak Boutique Hotel</dd>\\n<dt>City</dt><dd>Wewak</dd>\\n<dt>Country</dt><dd>PG</dd>\\n<dt>Max Temp</dt><dd>83.44 °F</dd>\\n</dl>\\n', '\\n<dl>\\n<dt>Hotel Name</dt><dd>Holiday Inn Express & Suites Charlotte Arpt-Belmont, an IHG Hotel</dd>\\n<dt>City</dt><dd>Mount Holly</dd>\\n<dt>Country</dt><dd>US</dd>\\n<dt>Max Temp</dt><dd>84.15 °F</dd>\\n</dl>\\n', '\\n<dl>\\n<dt>Hotel Name</dt><dd>Paradise Hotel</dd>\\n<dt>City</dt><dd>Wanning</dd>\\n<dt>Country</dt><dd>CN</dd>\\n<dt>Max Temp</dt><dd>88.92 °F</dd>\\n</dl>\\n', '\\n<dl>\\n<dt>Hotel Name</dt><dd>Amiin Hotel</dd>\\n<dt>City</dt><dd>Eyl</dd>\\n<dt>Country</dt><dd>SO</dd>\\n<dt>Max Temp</dt><dd>76.12 °F</dd>\\n</dl>\\n', '\\n<dl>\\n<dt>Hotel Name</dt><dd>Screensaver</dd>\\n<dt>City</dt><dd>Harper</dd>\\n<dt>Country</dt><dd>LR</dd>\\n<dt>Max Temp</dt><dd>75.36 °F</dd>\\n</dl>\\n', '\\n<dl>\\n<dt>Hotel Name</dt><dd>Hoshino Resorts OMO7 Asahikawa</dd>\\n<dt>City</dt><dd>Asahikawa</dd>\\n<dt>Country</dt><dd>JP</dd>\\n<dt>Max Temp</dt><dd>88.81 °F</dd>\\n</dl>\\n', '\\n<dl>\\n<dt>Hotel Name</dt><dd>Hotel Shanker Kathmandu</dd>\\n<dt>City</dt><dd>Kathmandu</dd>\\n<dt>Country</dt><dd>NP</dd>\\n<dt>Max Temp</dt><dd>75.42 °F</dd>\\n</dl>\\n', '\\n<dl>\\n<dt>Hotel Name</dt><dd>Red Sea Hotel</dd>\\n<dt>City</dt><dd>Bosaso</dd>\\n<dt>Country</dt><dd>SO</dd>\\n<dt>Max Temp</dt><dd>85.86 °F</dd>\\n</dl>\\n', '\\n<dl>\\n<dt>Hotel Name</dt><dd>Taloa Heights</dd>\\n<dt>City</dt><dd>Alofi</dd>\\n<dt>Country</dt><dd>NU</dd>\\n<dt>Max Temp</dt><dd>82.29 °F</dd>\\n</dl>\\n', '\\n<dl>\\n<dt>Hotel Name</dt><dd>IBCO REAL ESTATE PROPERTY</dd>\\n<dt>City</dt><dd>Berbera</dd>\\n<dt>Country</dt><dd>SO</dd>\\n<dt>Max Temp</dt><dd>86.61 °F</dd>\\n</dl>\\n', '\\n<dl>\\n<dt>Hotel Name</dt><dd>Courtyard by Marriott Medford Airport</dd>\\n<dt>City</dt><dd>Central Point</dd>\\n<dt>Country</dt><dd>US</dd>\\n<dt>Max Temp</dt><dd>83.64 °F</dd>\\n</dl>\\n', '\\n<dl>\\n<dt>Hotel Name</dt><dd>Hôtel BUMAK</dd>\\n<dt>City</dt><dd>Ilebo</dd>\\n<dt>Country</dt><dd>CD</dd>\\n<dt>Max Temp</dt><dd>77.16 °F</dd>\\n</dl>\\n']\n"
     ]
    }
   ],
   "source": []
  },
  {
   "cell_type": "code",
   "execution_count": null,
   "id": "0553b933",
   "metadata": {},
   "outputs": [],
   "source": []
  }
 ],
 "metadata": {
  "kernelspec": {
   "display_name": "PythonData",
   "language": "python",
   "name": "pythondata"
  },
  "language_info": {
   "codemirror_mode": {
    "name": "ipython",
    "version": 3
   },
   "file_extension": ".py",
   "mimetype": "text/x-python",
   "name": "python",
   "nbconvert_exporter": "python",
   "pygments_lexer": "ipython3",
   "version": "3.7.10"
  }
 },
 "nbformat": 4,
 "nbformat_minor": 5
}
